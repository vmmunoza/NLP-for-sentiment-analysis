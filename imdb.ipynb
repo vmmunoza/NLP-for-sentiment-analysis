{
 "cells": [
  {
   "cell_type": "markdown",
   "metadata": {},
   "source": [
    "# Sentiment Analysis with the imdb dataset\n",
    "\n",
    "Run this notebook to explore [RNN](https://en.wikipedia.org/wiki/Recurrent_neural_network) models that performs a binary classification using the film reviews contained in the imdb dataset"
   ]
  },
  {
   "cell_type": "code",
   "execution_count": 1,
   "metadata": {},
   "outputs": [
    {
     "name": "stdout",
     "output_type": "stream",
     "text": [
      "2.0.0\n"
     ]
    }
   ],
   "source": [
    "# Notebook should be run with tensorflow 2.0.0\n",
    "import tensorflow as tf\n",
    "# Check tf version\n",
    "print(tf.__version__)"
   ]
  },
  {
   "cell_type": "code",
   "execution_count": 3,
   "metadata": {},
   "outputs": [],
   "source": [
    "# Load the the imdb data set\n",
    "import tensorflow_datasets as tfds\n",
    "imdb, info = tfds.load(\"imdb_reviews\", with_info=True, as_supervised=True)\n",
    "\n",
    "# you may find troubles at first, if so uncomment the line below and run again\n",
    "!pip install -q tensorflow-datasets"
   ]
  },
  {
   "cell_type": "code",
   "execution_count": 4,
   "metadata": {},
   "outputs": [
    {
     "data": {
      "text/plain": [
       "{'test': <PrefetchDataset shapes: ((), ()), types: (tf.string, tf.int64)>,\n",
       " 'train': <PrefetchDataset shapes: ((), ()), types: (tf.string, tf.int64)>,\n",
       " 'unsupervised': <PrefetchDataset shapes: ((), ()), types: (tf.string, tf.int64)>}"
      ]
     },
     "execution_count": 4,
     "metadata": {},
     "output_type": "execute_result"
    }
   ],
   "source": [
    "# Notice that data is stored as a dictionary\n",
    "imdb"
   ]
  },
  {
   "cell_type": "code",
   "execution_count": 5,
   "metadata": {},
   "outputs": [
    {
     "data": {
      "text/plain": [
       "tfds.core.DatasetInfo(\n",
       "    name='imdb_reviews',\n",
       "    version=1.0.0,\n",
       "    description='Large Movie Review Dataset.\n",
       "This is a dataset for binary sentiment classification containing substantially more data than previous benchmark datasets. We provide a set of 25,000 highly polar movie reviews for training, and 25,000 for testing. There is additional unlabeled data for use as well.',\n",
       "    homepage='http://ai.stanford.edu/~amaas/data/sentiment/',\n",
       "    features=FeaturesDict({\n",
       "        'label': ClassLabel(shape=(), dtype=tf.int64, num_classes=2),\n",
       "        'text': Text(shape=(), dtype=tf.string),\n",
       "    }),\n",
       "    total_num_examples=100000,\n",
       "    splits={\n",
       "        'test': 25000,\n",
       "        'train': 25000,\n",
       "        'unsupervised': 50000,\n",
       "    },\n",
       "    supervised_keys=('text', 'label'),\n",
       "    citation=\"\"\"@InProceedings{maas-EtAl:2011:ACL-HLT2011,\n",
       "      author    = {Maas, Andrew L.  and  Daly, Raymond E.  and  Pham, Peter T.  and  Huang, Dan  and  Ng, Andrew Y.  and  Potts, Christopher},\n",
       "      title     = {Learning Word Vectors for Sentiment Analysis},\n",
       "      booktitle = {Proceedings of the 49th Annual Meeting of the Association for Computational Linguistics: Human Language Technologies},\n",
       "      month     = {June},\n",
       "      year      = {2011},\n",
       "      address   = {Portland, Oregon, USA},\n",
       "      publisher = {Association for Computational Linguistics},\n",
       "      pages     = {142--150},\n",
       "      url       = {http://www.aclweb.org/anthology/P11-1015}\n",
       "    }\"\"\",\n",
       "    redistribution_info=,\n",
       ")"
      ]
     },
     "execution_count": 5,
     "metadata": {},
     "output_type": "execute_result"
    }
   ],
   "source": [
    "# Get basic information about this dataset\n",
    "info"
   ]
  },
  {
   "cell_type": "markdown",
   "metadata": {},
   "source": [
    "**more information about the data set:\n",
    "https://github.com/tensorflow/datasets/blob/master/docs/catalog/imdb_reviews.md**    "
   ]
  },
  {
   "cell_type": "code",
   "execution_count": 6,
   "metadata": {},
   "outputs": [
    {
     "name": "stdout",
     "output_type": "stream",
     "text": [
      "(<tf.Tensor: id=203, shape=(1,), dtype=string, numpy=\n",
      "array([b\"This was an absolutely terrible movie. Don't be lured in by Christopher Walken or Michael Ironside. Both are great actors, but this must simply be their worst role in history. Even their great acting could not redeem this movie's ridiculous storyline. This movie is an early nineties US propaganda piece. The most pathetic scenes were those when the Columbian rebels were making their cases for revolutions. Maria Conchita Alonso appeared phony, and her pseudo-love affair with Walken was nothing but a pathetic emotional plug in a movie that was devoid of any real meaning. I am disappointed that there are movies like this, ruining actor's like Christopher Walken's good name. I could barely sit through it.\"],\n",
      "      dtype=object)>, <tf.Tensor: id=204, shape=(1,), dtype=int64, numpy=array([0], dtype=int64)>)\n",
      "\n",
      "(<tf.Tensor: id=205, shape=(1,), dtype=string, numpy=\n",
      "array([b'I have been known to fall asleep during films, but this is usually due to a combination of things including, really tired, being warm and comfortable on the sette and having just eaten a lot. However on this occasion I fell asleep because the film was rubbish. The plot development was constant. Constantly slow and boring. Things seemed to happen, but with no explanation of what was causing them or why. I admit, I may have missed part of the film, but i watched the majority of it and everything just seemed to happen of its own accord without any real concern for anything else. I cant recommend this film at all.'],\n",
      "      dtype=object)>, <tf.Tensor: id=206, shape=(1,), dtype=int64, numpy=array([0], dtype=int64)>)\n",
      "\n",
      "(<tf.Tensor: id=207, shape=(1,), dtype=string, numpy=\n",
      "array([b'Mann photographs the Alberta Rocky Mountains in a superb fashion, and Jimmy Stewart and Walter Brennan give enjoyable performances as they always seem to do. <br /><br />But come on Hollywood - a Mountie telling the people of Dawson City, Yukon to elect themselves a marshal (yes a marshal!) and to enforce the law themselves, then gunfighters battling it out on the streets for control of the town? <br /><br />Nothing even remotely resembling that happened on the Canadian side of the border during the Klondike gold rush. Mr. Mann and company appear to have mistaken Dawson City for Deadwood, the Canadian North for the American Wild West.<br /><br />Canadian viewers be prepared for a Reefer Madness type of enjoyable howl with this ludicrous plot, or, to shake your head in disgust.'],\n",
      "      dtype=object)>, <tf.Tensor: id=208, shape=(1,), dtype=int64, numpy=array([0], dtype=int64)>)\n",
      "\n"
     ]
    }
   ],
   "source": [
    "# Data is already split for training/test\n",
    "train_data, test_data = imdb['train'], imdb['test']\n",
    "\n",
    "# let's see some of the content of this data by printing one batch with 3 examples\n",
    "train_example= imdb['train'].batch(1).take(3)\n",
    "for data in train_example:\n",
    "    print(data)\n",
    "    print('')"
   ]
  },
  {
   "cell_type": "code",
   "execution_count": 7,
   "metadata": {},
   "outputs": [],
   "source": [
    "# We need to keep the sentences and labels in a list/array\n",
    "import numpy as np\n",
    "\n",
    "training_sentences = []\n",
    "training_labels = []\n",
    "\n",
    "testing_sentences = []\n",
    "testing_labels = []\n",
    "\n",
    "for s,l in train_data:\n",
    "    training_sentences.append(str(s.numpy()))\n",
    "    training_labels.append(l.numpy())\n",
    "\n",
    "for s,l in test_data:\n",
    "    testing_sentences.append(str(s.numpy()))\n",
    "    testing_labels.append(l.numpy())\n",
    "\n",
    "testing_labels_final = np.array(testing_labels)\n",
    "training_labels_final = np.array(training_labels)"
   ]
  },
  {
   "cell_type": "code",
   "execution_count": 8,
   "metadata": {},
   "outputs": [
    {
     "name": "stdout",
     "output_type": "stream",
     "text": [
      "Training review example: \n",
      "\n",
      "b\"This was an absolutely terrible movie. Don't be lured in by Christopher Walken or Michael Ironside. Both are great actors, but this must simply be their worst role in history. Even their great acting could not redeem this movie's ridiculous storyline. This movie is an early nineties US propaganda piece. The most pathetic scenes were those when the Columbian rebels were making their cases for revolutions. Maria Conchita Alonso appeared phony, and her pseudo-love affair with Walken was nothing but a pathetic emotional plug in a movie that was devoid of any real meaning. I am disappointed that there are movies like this, ruining actor's like Christopher Walken's good name. I could barely sit through it.\" \n",
      "\n",
      "label:  0 \n",
      "\n",
      "Test review example: \n",
      "\n",
      "b\"There are films that make careers. For George Romero, it was NIGHT OF THE LIVING DEAD; for Kevin Smith, CLERKS; for Robert Rodriguez, EL MARIACHI. Add to that list Onur Tukel's absolutely amazing DING-A-LING-LESS. Flawless film-making, and as assured and as professional as any of the aforementioned movies. I haven't laughed this hard since I saw THE FULL MONTY. (And, even then, I don't think I laughed quite this hard... So to speak.) Tukel's talent is considerable: DING-A-LING-LESS is so chock full of double entendres that one would have to sit down with a copy of this script and do a line-by-line examination of it to fully appreciate the, uh, breadth and width of it. Every shot is beautifully composed (a clear sign of a sure-handed director), and the performances all around are solid (there's none of the over-the-top scenery chewing one might've expected from a film like this). DING-A-LING-LESS is a film whose time has come.\" \n",
      "\n",
      "label:  1\n"
     ]
    }
   ],
   "source": [
    "# let's check the labeled data \n",
    "print('Training review example: '+'\\n')\n",
    "print(training_sentences[0],'\\n')\n",
    "print('label: ',training_labels_final[0],'\\n')\n",
    "print('Test review example: '+'\\n')\n",
    "print(testing_sentences[0],'\\n')\n",
    "print('label: ',testing_labels_final[0])"
   ]
  },
  {
   "cell_type": "code",
   "execution_count": 9,
   "metadata": {},
   "outputs": [],
   "source": [
    "# For convenience, we define the hyperparameters of the model here\n",
    "vocab_size = 10000\n",
    "embedding_dim = 16\n",
    "max_length = 100\n",
    "trunc_type='post'\n",
    "oov_tok = \"<OOV>\""
   ]
  },
  {
   "cell_type": "code",
   "execution_count": 10,
   "metadata": {},
   "outputs": [],
   "source": [
    "#----- Data preprocessing\n",
    "from tensorflow.keras.preprocessing.text import Tokenizer\n",
    "from tensorflow.keras.preprocessing.sequence import pad_sequences\n",
    "# tokenize the data.\n",
    "tokenizer = Tokenizer(num_words = vocab_size, oov_token=oov_tok)\n",
    "tokenizer.fit_on_texts(training_sentences)\n",
    "word_index = tokenizer.word_index\n",
    "# convert into sequence of indices.\n",
    "sequences = tokenizer.texts_to_sequences(training_sentences)\n",
    "testing_sequences = tokenizer.texts_to_sequences(testing_sentences)\n",
    "# pad the sequences such that all the sentences are of equal length when feeding into the model.\n",
    "testing_padded = pad_sequences(testing_sequences,maxlen=max_length)\n",
    "padded = pad_sequences(sequences,maxlen=max_length, truncating=trunc_type)"
   ]
  },
  {
   "cell_type": "code",
   "execution_count": 11,
   "metadata": {},
   "outputs": [
    {
     "name": "stdout",
     "output_type": "stream",
     "text": [
      "Model: \"sequential\"\n",
      "_________________________________________________________________\n",
      "Layer (type)                 Output Shape              Param #   \n",
      "=================================================================\n",
      "embedding (Embedding)        (None, 100, 16)           160000    \n",
      "_________________________________________________________________\n",
      "bidirectional (Bidirectional (None, 64)                12544     \n",
      "_________________________________________________________________\n",
      "dense (Dense)                (None, 6)                 390       \n",
      "_________________________________________________________________\n",
      "dense_1 (Dense)              (None, 1)                 7         \n",
      "=================================================================\n",
      "Total params: 172,941\n",
      "Trainable params: 172,941\n",
      "Non-trainable params: 0\n",
      "_________________________________________________________________\n"
     ]
    }
   ],
   "source": [
    "# Define a model with LSTM \n",
    "model = tf.keras.Sequential([\n",
    "    tf.keras.layers.Embedding(vocab_size, embedding_dim, input_length=max_length),\n",
    "    tf.keras.layers.Bidirectional(tf.keras.layers.LSTM(32)),\n",
    "    tf.keras.layers.Dense(6, activation='relu'),\n",
    "    tf.keras.layers.Dense(1, activation='sigmoid')\n",
    "])\n",
    "model.compile(loss='binary_crossentropy',optimizer='adam',metrics=['accuracy'])\n",
    "model.summary()"
   ]
  },
  {
   "cell_type": "code",
   "execution_count": 12,
   "metadata": {},
   "outputs": [
    {
     "name": "stdout",
     "output_type": "stream",
     "text": [
      "Train on 25000 samples, validate on 25000 samples\n",
      "Epoch 1/15\n",
      "25000/25000 [==============================] - 55s 2ms/sample - loss: 0.4842 - accuracy: 0.7592 - val_loss: 0.3755 - val_accuracy: 0.8327\n",
      "Epoch 2/15\n",
      "25000/25000 [==============================] - 51s 2ms/sample - loss: 0.3096 - accuracy: 0.8748 - val_loss: 0.3989 - val_accuracy: 0.8268\n",
      "Epoch 3/15\n",
      "25000/25000 [==============================] - 51s 2ms/sample - loss: 0.2447 - accuracy: 0.9039 - val_loss: 0.4697 - val_accuracy: 0.8181\n",
      "Epoch 4/15\n",
      "25000/25000 [==============================] - 49s 2ms/sample - loss: 0.2012 - accuracy: 0.9240 - val_loss: 0.5373 - val_accuracy: 0.8093\n",
      "Epoch 5/15\n",
      "25000/25000 [==============================] - 49s 2ms/sample - loss: 0.1727 - accuracy: 0.9337 - val_loss: 0.5948 - val_accuracy: 0.8083\n",
      "Epoch 6/15\n",
      "25000/25000 [==============================] - 52s 2ms/sample - loss: 0.1503 - accuracy: 0.9427 - val_loss: 0.6456 - val_accuracy: 0.8082\n",
      "Epoch 7/15\n",
      "25000/25000 [==============================] - 51s 2ms/sample - loss: 0.1257 - accuracy: 0.9544 - val_loss: 0.7586 - val_accuracy: 0.7968\n",
      "Epoch 8/15\n",
      "25000/25000 [==============================] - 50s 2ms/sample - loss: 0.1120 - accuracy: 0.9588 - val_loss: 0.6883 - val_accuracy: 0.8075\n",
      "Epoch 9/15\n",
      "25000/25000 [==============================] - 49s 2ms/sample - loss: 0.1034 - accuracy: 0.9624 - val_loss: 0.6737 - val_accuracy: 0.8032\n",
      "Epoch 10/15\n",
      "25000/25000 [==============================] - 51s 2ms/sample - loss: 0.0807 - accuracy: 0.9720 - val_loss: 0.8552 - val_accuracy: 0.7992\n",
      "Epoch 11/15\n",
      "25000/25000 [==============================] - 53s 2ms/sample - loss: 0.0711 - accuracy: 0.9769 - val_loss: 1.0032 - val_accuracy: 0.7980\n",
      "Epoch 12/15\n",
      "25000/25000 [==============================] - 55s 2ms/sample - loss: 0.0615 - accuracy: 0.9811 - val_loss: 1.0124 - val_accuracy: 0.7903\n",
      "Epoch 13/15\n",
      "25000/25000 [==============================] - 53s 2ms/sample - loss: 0.0473 - accuracy: 0.9860 - val_loss: 0.9911 - val_accuracy: 0.7990\n",
      "Epoch 14/15\n",
      "25000/25000 [==============================] - 53s 2ms/sample - loss: 0.0439 - accuracy: 0.9867 - val_loss: 0.9466 - val_accuracy: 0.7986\n",
      "Epoch 15/15\n",
      "25000/25000 [==============================] - 53s 2ms/sample - loss: 0.0307 - accuracy: 0.9918 - val_loss: 1.3453 - val_accuracy: 0.7858\n"
     ]
    }
   ],
   "source": [
    "# Train the model\n",
    "num_epochs = 15\n",
    "history = model.fit(padded, training_labels_final, epochs=num_epochs, validation_data=(testing_padded, testing_labels_final))"
   ]
  },
  {
   "cell_type": "code",
   "execution_count": 13,
   "metadata": {},
   "outputs": [
    {
     "data": {
      "image/png": "[encoded data removed]",
      "text/plain": [
       "<Figure size 648x432 with 1 Axes>"
      ]
     },
     "metadata": {
      "needs_background": "light"
     },
     "output_type": "display_data"
    }
   ],
   "source": [
    "# Let's plot the loss\n",
    "import matplotlib.pyplot as plt\n",
    "\n",
    "history_dict = history.history\n",
    "acc = history_dict['accuracy']\n",
    "val_acc = history_dict['val_accuracy']\n",
    "loss = history_dict['loss']\n",
    "val_loss = history_dict['val_loss']\n",
    "\n",
    "\n",
    "fig,ax=plt.subplots(figsize=(9,6))\n",
    "epochs = range(1, len(acc) + 1)\n",
    "\n",
    "plt.plot(epochs, loss, label='Training Loss')\n",
    "plt.plot(epochs, val_loss, label='Validation Loss')\n",
    "plt.title('Training and Validation Loss', fontsize=15)\n",
    "plt.xlabel('Epochs', fontsize=18)\n",
    "plt.ylabel('Loss', fontsize=18)\n",
    "plt.legend(fontsize=15)\n",
    "plt.show();"
   ]
  },
  {
   "cell_type": "code",
   "execution_count": 14,
   "metadata": {},
   "outputs": [
    {
     "data": {
      "image/png": "[encoded data removed]",
      "text/plain": [
       "<Figure size 648x432 with 1 Axes>"
      ]
     },
     "metadata": {
      "needs_background": "light"
     },
     "output_type": "display_data"
    }
   ],
   "source": [
    "# Plot Accuracy\n",
    "fig,ax=plt.subplots(figsize=(9,6))\n",
    "plt.plot(epochs, acc, label='Training Accuracy')\n",
    "plt.plot(epochs, val_acc, label='Validation Accuracy')\n",
    "plt.title('Training and Validation Accuracy', fontsize=15)\n",
    "plt.xlabel('Epochs', fontsize=18)\n",
    "plt.ylabel('Accuracy', fontsize=18)\n",
    "plt.legend(fontsize=15)\n",
    "plt.show();"
   ]
  },
  {
   "cell_type": "code",
   "execution_count": 15,
   "metadata": {},
   "outputs": [
    {
     "name": "stdout",
     "output_type": "stream",
     "text": [
      "Review: This movie is the best. Really liked it. , Sentiment:0.9990953\n",
      "\n",
      " :) \n",
      "\n",
      "Review: Bad movie, I even fell asleep! , Sentiment:0.007370938\n",
      "\n",
      " :( \n",
      "\n",
      "Review: I think this is the worst movie of all time. , Sentiment:0.0023363226\n",
      "\n",
      " :( \n",
      "\n",
      "Review: This movie is so hilarious. I want to watch it again! , Sentiment:0.9718777\n",
      "\n",
      " :) \n",
      "\n"
     ]
    }
   ],
   "source": [
    "# Model above shows overfitting, yet how good is at predicting?\n",
    "\n",
    "new_reviews = [\n",
    "    'This movie is the best. Really liked it.',\n",
    "    'Bad movie, I even fell asleep!',\n",
    "    'I think this is the worst movie of all time.',\n",
    "    'This movie is so hilarious. I want to watch it again!'\n",
    "              ]\n",
    "\n",
    "new_seq = tokenizer.texts_to_sequences(new_reviews)\n",
    "padded=pad_sequences(new_seq, maxlen=max_length,truncating=trunc_type)\n",
    "output=model.predict(padded)\n",
    "\n",
    "for i in range(0,len(new_reviews)):\n",
    "    print('Review: '+new_reviews[i]+' '+', Sentiment:'+str(output[i][0])+'\\n' )\n",
    "    if output[i]> 0.5:\n",
    "        print(' :) '+'\\n')\n",
    "    else:\n",
    "        print(' :( '+'\\n')"
   ]
  },
  {
   "cell_type": "markdown",
   "metadata": {},
   "source": [
    "Not that bad after all!\n",
    "\n",
    "**Try it yourself:**\n",
    "\n",
    "Below there are other two simple models that can be trained.\n",
    "\n",
    "Uncomment the cell below to compile other models and write your own review to test how well does the model perform."
   ]
  },
  {
   "cell_type": "code",
   "execution_count": null,
   "metadata": {},
   "outputs": [],
   "source": [
    "\"\"\"\n",
    "# Model With Gated Recurrent Unit Network:\n",
    "model1 = tf.keras.Sequential([\n",
    "    tf.keras.layers.Embedding(vocab_size, embedding_dim, input_length=max_length),\n",
    "    tf.keras.layers.Bidirectional(tf.keras.layers.GRU(32)),\n",
    "    tf.keras.layers.Dense(6, activation='relu'),\n",
    "    tf.keras.layers.Dense(1, activation='sigmoid')\n",
    "])\n",
    "model1.compile(loss='binary_crossentropy',optimizer='adam',metrics=['accuracy'])\n",
    "print(model1.summary())\n",
    "\n",
    "# Model With Convolutional Neural Network\n",
    "model2 = tf.keras.Sequential([\n",
    "    tf.keras.layers.Embedding(vocab_size, embedding_dim, input_length=max_length),\n",
    "    tf.keras.layers.Conv1D(128, 5, activation='relu'),\n",
    "    tf.keras.layers.GlobalAveragePooling1D(),\n",
    "    tf.keras.layers.Dense(6, activation='relu'),\n",
    "    tf.keras.layers.Dense(1, activation='sigmoid')\n",
    "])\n",
    "model2.compile(loss='binary_crossentropy',optimizer='adam',metrics=['accuracy'])\n",
    "print(model2.summary())\n",
    "\n",
    "# After training some of the models above you can write a review to test it\n",
    "new_reviews = [\n",
    "    'WRITE YOUR OWN REVIEW HERE'\n",
    "              ]\n",
    "\n",
    "\"\"\""
   ]
  }
 ],
 "metadata": {
  "kernelspec": {
   "display_name": "Python 3",
   "language": "python",
   "name": "python3"
  },
  "language_info": {
   "codemirror_mode": {
    "name": "ipython",
    "version": 3
   },
   "file_extension": ".py",
   "mimetype": "text/x-python",
   "name": "python",
   "nbconvert_exporter": "python",
   "pygments_lexer": "ipython3",
   "version": "3.7.4"
  }
 },
 "nbformat": 4,
 "nbformat_minor": 2
}
